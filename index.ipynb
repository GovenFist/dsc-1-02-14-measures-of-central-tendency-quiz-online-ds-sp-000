{
 "cells": [
  {
   "cell_type": "markdown",
   "metadata": {},
   "source": [
    "# Measures of Central Tendency - Quiz\n",
    "\n",
    "## Objectives\n",
    "You will be able to:\n",
    "* Understand and describe the significance of measuring central tendency of continuous data\n",
    "* Understand the formula and intuition behind the mean, median, mode and modal class\n",
    "* Compare mean-median-mode, along with histograms to explain the central tendency of given data"
   ]
  },
  {
   "cell_type": "markdown",
   "metadata": {},
   "source": [
    "**Note, for these exercises, you do not need to write code to answer them - we'll do that later. Just do them by hand or with a calculator to make sure you're comfortable with the process of calculating the answers!**\n",
    "\n",
    "### Exercise 1\n",
    "Calculate the mean, median and mode for this data set: \n",
    "```\n",
    "19, 18, 21, 16, 15, 17, 20, 18\n",
    "```\n",
    "While comparing the results of three measures, comment about this distribution. "
   ]
  },
  {
   "cell_type": "code",
   "execution_count": 1,
   "metadata": {},
   "outputs": [
    {
     "name": "stdout",
     "output_type": "stream",
     "text": [
      "18.0\n",
      "18\n",
      "18\n"
     ]
    }
   ],
   "source": [
    "# My Answers\n",
    "# Mean = 18\n",
    "# Mode = 18\n",
    "# Median\n",
    "def mean(val_list):\n",
    "    x_sum = sum(val_list)\n",
    "    n = len(val_list)\n",
    "    return round(float(x_sum/n),2)\n",
    "\n",
    "def medain(val_list):\n",
    "    sort_vals = list(sorted(val_list,reverse=False))\n",
    "    n = len(val_list)\n",
    "    med_index = int((n+1) / 2)\n",
    "    return sort_vals[med_index]\n",
    "\n",
    "def mode(val_list):\n",
    "    value_frequency_dict = {}\n",
    "    for value in list(set(val_list)):\n",
    "        frequency = val_list.count(value)\n",
    "        value_frequency_dict[value] = frequency\n",
    "    max_frequency = max(value_frequency_dict.values())\n",
    "    max_value_list = [value for value in value_frequency_dict if value_frequency_dict[value] == max_frequency]\n",
    "    return max_value_list[0]\n",
    "    \n",
    "    \n",
    "data_set = [19, 18, 21, 16, 15, 17, 20, 18]# Your answer here \n",
    "mean_val = mean(data_set)\n",
    "median_val = medain(data_set)\n",
    "mode_val = mode(data_set)\n",
    "print(mean_val)\n",
    "print(median_val)\n",
    "print(mode_val)"
   ]
  },
  {
   "cell_type": "markdown",
   "metadata": {},
   "source": [
    "### Exercise 2\n",
    "\n",
    "Calculate the mean, median and mode for given distribution and state which of these measures does not describe the \"middle\" of this data set? and why ?\n",
    "```\n",
    "100, 99, 97, 97, 96, 98, 95, 72\n",
    "```"
   ]
  },
  {
   "cell_type": "code",
   "execution_count": 2,
   "metadata": {},
   "outputs": [
    {
     "name": "stdout",
     "output_type": "stream",
     "text": [
      "94.25\n",
      "97\n",
      "97\n"
     ]
    }
   ],
   "source": [
    "dataset_2 = [100, 99, 97, 97, 96, 98, 95, 72]\n",
    "mean_val = mean(dataset_2)\n",
    "median_val = medain(dataset_2)\n",
    "mode_val = mode(dataset_2)\n",
    "print(mean_val)\n",
    "print(median_val)\n",
    "print(mode_val) # Your answer here "
   ]
  },
  {
   "cell_type": "markdown",
   "metadata": {},
   "source": [
    "### Exercise 3\n",
    "On the first three days of his bookshop opening, Joe sold 15, 18, and 16 books (He initially hoped that he would sell 17 books every day).  How many books does he need to sell on the next day to have a mean sale of 17?"
   ]
  },
  {
   "cell_type": "code",
   "execution_count": 18,
   "metadata": {},
   "outputs": [
    {
     "data": {
      "text/plain": [
       "19"
      ]
     },
     "execution_count": 18,
     "metadata": {},
     "output_type": "execute_result"
    }
   ],
   "source": [
    "def next_val_to_meet_median_expectation(value_list, expected_value):\n",
    "    curr_mean_value = mean(value_list)\n",
    "    n = len(value_list)\n",
    "    return (expected_value*(n+1))-sum(value_list)\n",
    "sales = [15,18,16]\n",
    "req_sale = next_val_to_meet_median_expectation(sales,17)\n",
    "req_sale# Your answer here "
   ]
  },
  {
   "cell_type": "markdown",
   "metadata": {},
   "source": [
    "### Exercise 4\n",
    "The histograms show the amount of time (hours per day) spent on Facebook by 46 middle school girls and 40 middle school boys from a school in San Francisco. A total of 50 boys and 50 girls took the survey, 4 girls and 10 boys did not use Facebook at all. \n",
    "Each is graphed with a bin width of 0.25 hours.\n",
    "\n",
    "![](boys.png)\n",
    "![](girls.png)\n",
    "\n",
    "Looking at these histograms, answer following questions. \n",
    "\n",
    "*Hint: For most parts, you will have to figure out the location of required bins and count the frequencies. *\n",
    "\n",
    "#### How many boys spend more than 1.5 hours/day on Facebook?\n"
   ]
  },
  {
   "cell_type": "code",
   "execution_count": 9,
   "metadata": {},
   "outputs": [],
   "source": [
    "# Your answer here \n",
    "# boys_fb_gr_than_1.5 = 7"
   ]
  },
  {
   "cell_type": "markdown",
   "metadata": {},
   "source": [
    "#### Compare the percentage of boys and girls that spend more than zero but less than 1 hour/day on Facebook."
   ]
  },
  {
   "cell_type": "code",
   "execution_count": 10,
   "metadata": {},
   "outputs": [],
   "source": [
    "# Your answer here \n",
    "# boy_fb_usage = 20\n",
    "# girls_fb_usage = 10\n",
    "# fb_udage_gender_dif = +10 #boys to girls"
   ]
  },
  {
   "cell_type": "markdown",
   "metadata": {},
   "source": [
    "#### Find the bin where the median of the boys' data set lies."
   ]
  },
  {
   "cell_type": "markdown",
   "metadata": {},
   "source": [
    "Your answer here:\n",
    "*1.125 hours per day (hpd)\n"
   ]
  },
  {
   "cell_type": "markdown",
   "metadata": {},
   "source": [
    "#### In terms of Facebook usage times based on given data, what can you conclude about usage habits of boys and girls?"
   ]
  },
  {
   "cell_type": "markdown",
   "metadata": {},
   "source": [
    "Your answer here:\n",
    "Given the small sample size it is hard to infer greater trends of gender based facebook(fb) usage. Initial review of the data may find the following assertions to be true: \n",
    "* Observing the girls usage data alone. \n",
    "    - Female FB Usage spaned upto 4 hours of fb usage a day. \n",
    "    - A large concentration of female-users (12/46) skewed the data right as \"heavy\" users exceeding 3.75 hours per day(hpd).\n",
    "    - Median female-usage was about 2.326 hpd. \n",
    "* Observing the boys usage data alone. \n",
    "    - Male FB usage data peaked at 2 hours. \n",
    "    - Median male-usage was about \n",
    "    - Given the 2 hour span there was a smaller skew right ofdian value"
   ]
  }
 ],
 "metadata": {
  "kernelspec": {
   "display_name": "Python 3",
   "language": "python",
   "name": "python3"
  },
  "language_info": {
   "codemirror_mode": {
    "name": "ipython",
    "version": 3
   },
   "file_extension": ".py",
   "mimetype": "text/x-python",
   "name": "python",
   "nbconvert_exporter": "python",
   "pygments_lexer": "ipython3",
   "version": "3.6.4"
  }
 },
 "nbformat": 4,
 "nbformat_minor": 2
}
